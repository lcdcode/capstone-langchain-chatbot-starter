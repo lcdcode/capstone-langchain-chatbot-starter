{
  "nbformat": 4,
  "nbformat_minor": 0,
  "metadata": {
    "colab": {
      "provenance": []
    },
    "kernelspec": {
      "name": "python3",
      "display_name": "Python 3"
    },
    "language_info": {
      "name": "python"
    }
  },
  "cells": [
    {
      "cell_type": "markdown",
      "source": [
        "# Generative Question Answering\n",
        "\n",
        "\n",
        "\n",
        "\n"
      ],
      "metadata": {
        "id": "vebipPXrcenY"
      }
    },
    {
      "cell_type": "markdown",
      "source": [
        "## Installation\n",
        "\n",
        "1. Click File -> Save a Copy in Drive. This will create a copy for you to modify in your Google Drive.\n",
        "\n",
        "2. This project will require you to install langchain, cohere, chromadb, and other libraries. Run the command below to start the installation. Installation may take a couple of minutes.\n"
      ],
      "metadata": {
        "id": "qUG_X1n7ng9r"
      }
    },
    {
      "cell_type": "code",
      "execution_count": null,
      "metadata": {
        "id": "wDb_Ac_EryMP"
      },
      "outputs": [],
      "source": [
        "!pip install cohere==4.57 nltk==3.8 unstructured langchain==0.0.195 chromadb==0.3.26 > /dev/null 2>&1"
      ]
    },
    {
      "cell_type": "markdown",
      "source": [
        "## Import Libraries\n",
        "\n",
        "\n"
      ],
      "metadata": {
        "id": "2hkYzF8ln2-M"
      }
    },
    {
      "cell_type": "code",
      "source": [
        "import os\n",
        "import nltk\n",
        "nltk.download('punkt')\n",
        "\n",
        "from langchain import Cohere\n",
        "from langchain.chains import RetrievalQA\n",
        "from langchain.document_loaders import DirectoryLoader\n",
        "from langchain.embeddings import CohereEmbeddings\n",
        "from langchain.text_splitter import CharacterTextSplitter, RecursiveCharacterTextSplitter\n",
        "from langchain.vectorstores import Chroma\n"
      ],
      "metadata": {
        "id": "14Qxrc0lr6Zi",
        "colab": {
          "base_uri": "https://localhost:8080/"
        },
        "outputId": "4ce4d22e-2d10-4021-99be-9f21bb892a9c"
      },
      "execution_count": null,
      "outputs": [
        {
          "output_type": "stream",
          "name": "stderr",
          "text": [
            "[nltk_data] Downloading package punkt to /root/nltk_data...\n",
            "[nltk_data]   Unzipping tokenizers/punkt.zip.\n"
          ]
        }
      ]
    },
    {
      "cell_type": "code",
      "source": [
        "# fixes nltk path issue on colab\n",
        "!cp -R ~/nltk_data/tokenizers/punkt/PY3 ~/nltk_data/tokenizers/punkt/PY3_tab"
      ],
      "metadata": {
        "id": "n1HZS5ULNcrx"
      },
      "execution_count": null,
      "outputs": []
    },
    {
      "cell_type": "markdown",
      "source": [
        "## Setup\n",
        "\n",
        "Before running the next cell, make sure you have a [Cohere API key](https://dashboard.cohere.ai/api-keys). Enter your API key using getpass in the cell below.\n"
      ],
      "metadata": {
        "id": "DQUHatikkA9o"
      }
    },
    {
      "cell_type": "code",
      "source": [
        "from getpass import getpass\n",
        "api_key = getpass()\n",
        "os.environ[\"COHERE_API_KEY\"] = api_key"
      ],
      "metadata": {
        "id": "BHJRobJMsllM",
        "colab": {
          "base_uri": "https://localhost:8080/"
        },
        "outputId": "a5b1e04d-2e65-446e-cce5-8e6315aeef5a"
      },
      "execution_count": null,
      "outputs": [
        {
          "name": "stdout",
          "output_type": "stream",
          "text": [
            "··········\n"
          ]
        }
      ]
    },
    {
      "cell_type": "markdown",
      "source": [
        "## Uploading documents to Colab\n",
        "\n",
        "There are two ways you can upload your documents to Colab.\n",
        "\n",
        "#### Method 1\n",
        "\n",
        "1. Right-click on the link below and save the text file to your computer.\n",
        "\n",
        "[Wikipedia Article: Quantum Computing](https://raw.githubusercontent.com/Thinkful-Ed/ai-in-web-dev-resources/refs/heads/main/books/quantumcomputers.txt)\n",
        "\n",
        "2. Click on the folder icon tab at the left of the Colab editor. Create a new *documents* directory. Click on the *upload file* icon and select the file that you want to upload.\n",
        "\n",
        "#### Method 2\n",
        "\n",
        "Run the command below:"
      ],
      "metadata": {
        "id": "CJ2N-Vx8uaOK"
      }
    },
    {
      "cell_type": "code",
      "source": [
        "!curl -o /content/documents/quantumcomputers.txt https://raw.githubusercontent.com/Thinkful-Ed/ai-in-web-dev-resources/refs/heads/main/books/quantumcomputers.txt --create-dirs"
      ],
      "metadata": {
        "id": "tmJ_Kxo3Km2I",
        "colab": {
          "base_uri": "https://localhost:8080/"
        },
        "outputId": "0c4cdf90-0d9b-43aa-ad31-d1669a08ef0d"
      },
      "execution_count": null,
      "outputs": [
        {
          "output_type": "stream",
          "name": "stdout",
          "text": [
            "  % Total    % Received % Xferd  Average Speed   Time    Time     Time  Current\n",
            "                                 Dload  Upload   Total   Spent    Left  Speed\n",
            "100  115k  100  115k    0     0   449k      0 --:--:-- --:--:-- --:--:--  449k\n"
          ]
        }
      ]
    },
    {
      "cell_type": "markdown",
      "source": [
        "## Load the documents\n",
        "\n",
        "The [DirectoryLoader](https://js.langchain.com/docs/api/document_loaders_fs_directory/classes/DirectoryLoader) class will allow you to load multiple documents that are in a directory. Create a directory by clicking in the folder icon at the left and upload your text documents there. If you want to use another format, such as `md` files, make sure to change the `glob=\"**/*.txt\"` variable and read the documentation to make sure that the file type is supported.\n",
        "\n",
        "**Note:** Cohere is now imposing a limit on embeddings. If you get an error try a smaller text (like a wikipedia article)."
      ],
      "metadata": {
        "id": "qi3qxMtLilDf"
      }
    },
    {
      "cell_type": "code",
      "source": [
        "loader = DirectoryLoader('/content/documents', glob=\"**/*.txt\") # import all txt files in the documents folder\n",
        "documents = loader.load()\n",
        "print (f'You have {len(documents)} document(s) in your documents folder')"
      ],
      "metadata": {
        "id": "yAeFhayesISS",
        "colab": {
          "base_uri": "https://localhost:8080/"
        },
        "outputId": "0fcd16a7-ec20-444d-add8-7ac58459a86a"
      },
      "execution_count": null,
      "outputs": [
        {
          "output_type": "stream",
          "name": "stdout",
          "text": [
            "You have 1 document(s) in your documents folder\n"
          ]
        }
      ]
    },
    {
      "cell_type": "markdown",
      "source": [
        "## Splitting Text\n",
        "\n",
        "Splitting text is useful because when you have a long document, it can be difficult to find the specific information relevant to a question. The `CharacterTextSplitter` helps break down the text into smaller, more manageable chunks."
      ],
      "metadata": {
        "id": "JcMkq1CmTzb6"
      }
    },
    {
      "cell_type": "code",
      "source": [
        "#text_splitter = CharacterTextSplitter(chunk_size=1500)\n",
        "text_splitter = RecursiveCharacterTextSplitter(chunk_size=1000, chunk_overlap=100)\n",
        "texts = text_splitter.split_documents(documents)\n",
        "print (f'Your document(s) was/were splitted into {len(texts)} chunks.')"
      ],
      "metadata": {
        "id": "LJz_1t17sg-r",
        "colab": {
          "base_uri": "https://localhost:8080/"
        },
        "outputId": "7a1e1c4d-eed4-45f5-b665-c9ee0eb7bb96"
      },
      "execution_count": null,
      "outputs": [
        {
          "output_type": "stream",
          "name": "stdout",
          "text": [
            "Your document(s) was/were splitted into 175 chunks.\n"
          ]
        }
      ]
    },
    {
      "cell_type": "markdown",
      "source": [
        "## Embeddings and RetrievalQA\n",
        "\n",
        "In simple terms, this code sets up the necessary tools for question-answering. It converts text into numerical representations called embeddings, creates a search index for the documents, and sets up a retrieval-based question-answering system using a specific type of chain (RetrievalQA).\n"
      ],
      "metadata": {
        "id": "LJZknsLuUWPd"
      }
    },
    {
      "cell_type": "code",
      "source": [
        "embeddings = CohereEmbeddings(cohere_api_key=os.getenv(\"COHERE_API_KEY\"))\n",
        "docsearch = Chroma.from_documents(texts, embeddings, persist_directory = 'db')\n",
        "docsearch.persist() # save db\n",
        "qa = RetrievalQA.from_chain_type(llm=Cohere(), retriever=docsearch.as_retriever(), return_source_documents=True)"
      ],
      "metadata": {
        "id": "FiEVUkB4tDf_"
      },
      "execution_count": null,
      "outputs": []
    },
    {
      "cell_type": "code",
      "source": [
        "query = \"what is quantum computing?\"\n",
        "result = qa({\"query\": query})\n",
        "result['result']"
      ],
      "metadata": {
        "id": "-TyqaefWtNxo",
        "colab": {
          "base_uri": "https://localhost:8080/",
          "height": 127
        },
        "outputId": "7b16e710-e0e3-4b73-f0e3-d14111cf4818"
      },
      "execution_count": null,
      "outputs": [
        {
          "output_type": "execute_result",
          "data": {
            "text/plain": [
              "' Quantum computing is a method of computing that leverages quantum mechanical phenomena. On small scales, physical matter exhibits properties of both particles and waves, and quantum computing leverages this behavior using specialized hardware. Classical physics cannot explain the operation of these quantum devices, and a scalable quantum computer could perform some calculations exponentially faster than any modern \"classical\" computer. In particular, a large-scale quantum computer could break widely used encryption schemes and aid physicists in performing physical simulations. \\n\\nThe basic unit of information in quantum computing is the qubit, which serves a similar function to the bit in classical computing. However, unlike a classical bit, which can be in one of two states (binary), a qubit can exist in a quantum superposition of its two basis states, meaning it is in both states simultaneously. When measuring a qubit, the result is a probabilistic output of a classical bit. If a quantum computer manipulates the qubit in a particular way, wave interference effects can amplify the desired measurement results. The design of quantum algorithms involves creating procedures that allow a quantum computer to perform calculations efficiently and quickly. \\n\\nWhile a quantum computer could break encryption schemes and aid physicists in performing simulations, the current state of the art is largely experimental and impractical, with several obstacles to useful applications'"
            ],
            "application/vnd.google.colaboratory.intrinsic+json": {
              "type": "string"
            }
          },
          "metadata": {},
          "execution_count": 11
        }
      ]
    },
    {
      "cell_type": "markdown",
      "source": [
        "You can also get the sources:"
      ],
      "metadata": {
        "id": "Q_Oq990i9sgg"
      }
    },
    {
      "cell_type": "code",
      "source": [
        "result['source_documents']"
      ],
      "metadata": {
        "id": "LQtXPU9vvnKs",
        "colab": {
          "base_uri": "https://localhost:8080/"
        },
        "outputId": "2bf62e27-df6a-4f67-aa69-1e9c8ad2638d"
      },
      "execution_count": null,
      "outputs": [
        {
          "output_type": "execute_result",
          "data": {
            "text/plain": [
              "[Document(page_content='A \\'\\'\\'quantum computer\\'\\'\\' is a [[computer]] that exploits [[quantum mechanical]] phenomena. On small scales, physical matter exhibits properties of [[wave-particle duality|both particles and waves]], and quantum computing leverages this behavior using specialized hardware. [[Classical physics]] cannot explain the operation of these quantum devices, and a scalable quantum computer could perform some calculations [[Exponential growth|exponentially]] faster{{efn|As used in this article, \"exponentially faster\" has a precise [[computational complexity|complexity theoretical]] meaning. Usually, it means that as a function of input size in bits, the best known classical algorithm for a problem requires an [[exponential growth|exponentially growing]] number of steps, while a quantum algorithm uses only a polynomial number of steps.}} than any modern \"classical\" computer. In particular, a large-scale quantum computer could [[post-quantum cryptography|break widely used encryption schemes]] and', metadata={'source': '/content/documents/quantumcomputers.txt'}),\n",
              " Document(page_content='<!-- Basic principles of quantum computing --> The basic [[unit of information]] in quantum computing, the [[qubit]] (or \"quantum bit\"), serves the same function as the [[bit]] in classical computing. However, unlike a classical bit, which can be in one of two states (a [[Binary number|binary]]), a qubit can exist in a [[quantum superposition|superposition]] of its two \"basis\" states, which loosely means that it is in both states simultaneously. When [[measurement in quantum mechanics|measuring]] a qubit, the result is a [[Born rule|probabilistic output]] of a classical bit. If a quantum computer manipulates the qubit in a particular way, [[wave interference]] effects can amplify the desired measurement results. The design of [[quantum algorithms]] involves creating procedures that allow a quantum computer to perform calculations efficiently and quickly.', metadata={'source': '/content/documents/quantumcomputers.txt'}),\n",
              " Document(page_content='{{Short description|Technology that uses quantum mechanics}} {{Use American English|date=February 2023}} {{Use dmy dates|date=February 2021}} [[File:Bloch sphere.svg|thumb|[[Bloch sphere]] representation of a qubit. The state <math>| \\\\psi \\\\rangle = \\\\alpha |0 \\\\rangle + \\\\beta |1 \\\\rangle</math> is a point on the surface of the sphere, partway between the poles, <math>|0\\\\rangle</math> and <math>|1\\\\rangle</math>.]] [[File:IBM Q system (Fraunhofer 2).jpg|thumb|upright=1.2|[[IBM Q System One|Quantum System One]], a quantum computer by [[IBM]] from 2019 with 20 [[Superconducting quantum computing|superconducting qubits]]<ref>{{Cite news |last=Russell |first=John |date=January 10, 2019 |title=IBM Quantum Update: Q System One Launch, New Collaborators, and QC Center Plans |language=en-US |website=HPCwire |url=https://www.hpcwire.com/2019/01/10/ibm-quantum-update-q-system-one-launch-new-collaborators-and-qc-center-plans/ |access-date=2023-01-09}}</ref>]]', metadata={'source': '/content/documents/quantumcomputers.txt'}),\n",
              " Document(page_content='quantum computer could [[post-quantum cryptography|break widely used encryption schemes]] and aid physicists in performing [[quantum simulator|physical simulations]]; however, the current state of the art is largely experimental and impractical, with several obstacles to useful applications.', metadata={'source': '/content/documents/quantumcomputers.txt'})]"
            ]
          },
          "metadata": {},
          "execution_count": 12
        }
      ]
    },
    {
      "cell_type": "code",
      "source": [
        "sources = \"\"\n",
        "for count, source in enumerate(result['source_documents'],1):\n",
        "  sources += \"Source \" + str(count) + \"\\n\"\n",
        "  sources += source.page_content + \"\\n\"\n",
        "\n",
        "print(sources)\n"
      ],
      "metadata": {
        "id": "ewVWgAuyHG-p",
        "colab": {
          "base_uri": "https://localhost:8080/"
        },
        "outputId": "9978591d-1bc2-4c6c-8b27-634873e32f85"
      },
      "execution_count": null,
      "outputs": [
        {
          "output_type": "stream",
          "name": "stdout",
          "text": [
            "Source 1\n",
            "A '''quantum computer''' is a [[computer]] that exploits [[quantum mechanical]] phenomena. On small scales, physical matter exhibits properties of [[wave-particle duality|both particles and waves]], and quantum computing leverages this behavior using specialized hardware. [[Classical physics]] cannot explain the operation of these quantum devices, and a scalable quantum computer could perform some calculations [[Exponential growth|exponentially]] faster{{efn|As used in this article, \"exponentially faster\" has a precise [[computational complexity|complexity theoretical]] meaning. Usually, it means that as a function of input size in bits, the best known classical algorithm for a problem requires an [[exponential growth|exponentially growing]] number of steps, while a quantum algorithm uses only a polynomial number of steps.}} than any modern \"classical\" computer. In particular, a large-scale quantum computer could [[post-quantum cryptography|break widely used encryption schemes]] and\n",
            "Source 2\n",
            "<!-- Basic principles of quantum computing --> The basic [[unit of information]] in quantum computing, the [[qubit]] (or \"quantum bit\"), serves the same function as the [[bit]] in classical computing. However, unlike a classical bit, which can be in one of two states (a [[Binary number|binary]]), a qubit can exist in a [[quantum superposition|superposition]] of its two \"basis\" states, which loosely means that it is in both states simultaneously. When [[measurement in quantum mechanics|measuring]] a qubit, the result is a [[Born rule|probabilistic output]] of a classical bit. If a quantum computer manipulates the qubit in a particular way, [[wave interference]] effects can amplify the desired measurement results. The design of [[quantum algorithms]] involves creating procedures that allow a quantum computer to perform calculations efficiently and quickly.\n",
            "Source 3\n",
            "{{Short description|Technology that uses quantum mechanics}} {{Use American English|date=February 2023}} {{Use dmy dates|date=February 2021}} [[File:Bloch sphere.svg|thumb|[[Bloch sphere]] representation of a qubit. The state <math>| \\psi \\rangle = \\alpha |0 \\rangle + \\beta |1 \\rangle</math> is a point on the surface of the sphere, partway between the poles, <math>|0\\rangle</math> and <math>|1\\rangle</math>.]] [[File:IBM Q system (Fraunhofer 2).jpg|thumb|upright=1.2|[[IBM Q System One|Quantum System One]], a quantum computer by [[IBM]] from 2019 with 20 [[Superconducting quantum computing|superconducting qubits]]<ref>{{Cite news |last=Russell |first=John |date=January 10, 2019 |title=IBM Quantum Update: Q System One Launch, New Collaborators, and QC Center Plans |language=en-US |website=HPCwire |url=https://www.hpcwire.com/2019/01/10/ibm-quantum-update-q-system-one-launch-new-collaborators-and-qc-center-plans/ |access-date=2023-01-09}}</ref>]]\n",
            "Source 4\n",
            "quantum computer could [[post-quantum cryptography|break widely used encryption schemes]] and aid physicists in performing [[quantum simulator|physical simulations]]; however, the current state of the art is largely experimental and impractical, with several obstacles to useful applications.\n",
            "\n"
          ]
        }
      ]
    },
    {
      "cell_type": "markdown",
      "source": [
        "## Download the database\n",
        "\n",
        "Zip the database into `db.zip` and download it to your computer.\n"
      ],
      "metadata": {
        "id": "VbxSAjdTkrTD"
      }
    },
    {
      "cell_type": "code",
      "source": [
        "!zip -r /content/db.zip /content/db"
      ],
      "metadata": {
        "id": "o_jxTthrvp-l"
      },
      "execution_count": null,
      "outputs": []
    },
    {
      "cell_type": "code",
      "source": [
        "from google.colab import files\n",
        "files.download(\"/content/db.zip\")"
      ],
      "metadata": {
        "id": "w_c7kCX_36lZ",
        "colab": {
          "base_uri": "https://localhost:8080/",
          "height": 17
        },
        "outputId": "24c6f412-a014-48d6-8ae0-07eeb237ddc1"
      },
      "execution_count": null,
      "outputs": [
        {
          "output_type": "display_data",
          "data": {
            "text/plain": [
              "<IPython.core.display.Javascript object>"
            ],
            "application/javascript": [
              "\n",
              "    async function download(id, filename, size) {\n",
              "      if (!google.colab.kernel.accessAllowed) {\n",
              "        return;\n",
              "      }\n",
              "      const div = document.createElement('div');\n",
              "      const label = document.createElement('label');\n",
              "      label.textContent = `Downloading \"${filename}\": `;\n",
              "      div.appendChild(label);\n",
              "      const progress = document.createElement('progress');\n",
              "      progress.max = size;\n",
              "      div.appendChild(progress);\n",
              "      document.body.appendChild(div);\n",
              "\n",
              "      const buffers = [];\n",
              "      let downloaded = 0;\n",
              "\n",
              "      const channel = await google.colab.kernel.comms.open(id);\n",
              "      // Send a message to notify the kernel that we're ready.\n",
              "      channel.send({})\n",
              "\n",
              "      for await (const message of channel.messages) {\n",
              "        // Send a message to notify the kernel that we're ready.\n",
              "        channel.send({})\n",
              "        if (message.buffers) {\n",
              "          for (const buffer of message.buffers) {\n",
              "            buffers.push(buffer);\n",
              "            downloaded += buffer.byteLength;\n",
              "            progress.value = downloaded;\n",
              "          }\n",
              "        }\n",
              "      }\n",
              "      const blob = new Blob(buffers, {type: 'application/binary'});\n",
              "      const a = document.createElement('a');\n",
              "      a.href = window.URL.createObjectURL(blob);\n",
              "      a.download = filename;\n",
              "      div.appendChild(a);\n",
              "      a.click();\n",
              "      div.remove();\n",
              "    }\n",
              "  "
            ]
          },
          "metadata": {}
        },
        {
          "output_type": "display_data",
          "data": {
            "text/plain": [
              "<IPython.core.display.Javascript object>"
            ],
            "application/javascript": [
              "download(\"download_0b018297-6481-4304-abba-27dacbeaca9a\", \"db.zip\", 25587817)"
            ]
          },
          "metadata": {}
        }
      ]
    }
  ]
}